{
 "cells": [
  {
   "cell_type": "code",
   "execution_count": 18,
   "metadata": {
    "collapsed": true
   },
   "outputs": [],
   "source": [
    "import numpy as np"
   ]
  },
  {
   "cell_type": "code",
   "execution_count": 19,
   "metadata": {
    "collapsed": false
   },
   "outputs": [
    {
     "name": "stdout",
     "output_type": "stream",
     "text": [
      "[[ 0.01040341 -1.12108213  0.91491158 -0.8213983 ]\n",
      " [ 1.17668572 -0.76124686 -0.62372807 -1.51805804]\n",
      " [-0.4330706   1.53910055  0.67839033  0.24117016]\n",
      " [-0.62031944 -0.20850216 -0.55837277  2.36505763]\n",
      " [ 0.26202877  0.87039664 -0.50248578  0.51390909]\n",
      " [ 0.3097436  -0.46766453 -0.04054071  0.76477119]\n",
      " [-0.39138795 -0.23818194  1.25928933  0.48848648]]\n"
     ]
    }
   ],
   "source": [
    "data = np.random.randn(7,4)\n",
    "dot = np.dot\n",
    "print(data)"
   ]
  },
  {
   "cell_type": "code",
   "execution_count": 20,
   "metadata": {
    "collapsed": false
   },
   "outputs": [
    {
     "name": "stdout",
     "output_type": "stream",
     "text": [
      "[[False  True False  True]\n",
      " [False  True  True  True]\n",
      " [ True False False False]\n",
      " [ True  True  True False]\n",
      " [False False  True False]\n",
      " [False  True  True False]\n",
      " [ True  True False False]]\n"
     ]
    }
   ],
   "source": [
    "print(data<0)"
   ]
  },
  {
   "cell_type": "code",
   "execution_count": 21,
   "metadata": {
    "collapsed": false
   },
   "outputs": [
    {
     "name": "stdout",
     "output_type": "stream",
     "text": [
      "[[ 0.01040341  0.          0.91491158  0.        ]\n",
      " [ 1.17668572  0.          0.          0.        ]\n",
      " [ 0.          1.53910055  0.67839033  0.24117016]\n",
      " [ 0.          0.          0.          2.36505763]\n",
      " [ 0.26202877  0.87039664  0.          0.51390909]\n",
      " [ 0.3097436   0.          0.          0.76477119]\n",
      " [ 0.          0.          1.25928933  0.48848648]]\n"
     ]
    }
   ],
   "source": [
    "data[data<0] = 0\n",
    "print(data)"
   ]
  },
  {
   "cell_type": "markdown",
   "metadata": {},
   "source": [
    "### 아래는 행렬곱과 행렬의 transpose를 구현한 것이다. \n",
    "1. 행렬곱은 np.dot에서 가져온 것임.\n",
    "```python\n",
    "np.dot(A,B)\n",
    "```\n",
    "2. 앞의 행렬의 열과 뒤의 행렬의 행이 맞아야지만 곱이 성사되고, 안 되면 에러를 던짐."
   ]
  },
  {
   "cell_type": "code",
   "execution_count": 27,
   "metadata": {
    "collapsed": false
   },
   "outputs": [
    {
     "name": "stdout",
     "output_type": "stream",
     "text": [
      "[[22 28]\n",
      " [49 64]]\n",
      "[[22 49]\n",
      " [28 64]]\n"
     ]
    }
   ],
   "source": [
    "data = np.array([[1,2,3], [4,5,6]])\n",
    "data1 = np.array([[1,2],[3,4],[5,6]])\n",
    "result = dot(data, data1)\n",
    "print(result)\n",
    "print(result.T)"
   ]
  },
  {
   "cell_type": "markdown",
   "metadata": {},
   "source": [
    "### matlab 형식의 : 키워드도 사용가능하다.\n",
    "1. 단 인덱스는 파이썬 인덱스이므로 0부터 시작한다,\n",
    "2. 뒤의 2는 해당 index를 포함 안하고 이전까지만.\n",
    "    * 아래는 2행 이전까지, 그리고 2열포함 이후부터를 의미함"
   ]
  },
  {
   "cell_type": "code",
   "execution_count": 36,
   "metadata": {
    "collapsed": false
   },
   "outputs": [
    {
     "name": "stdout",
     "output_type": "stream",
     "text": [
      "[[ 1  2  3  4  5]\n",
      " [ 4  5  6  7  8]\n",
      " [14 15 16 17 18]]\n"
     ]
    },
    {
     "ename": "ValueError",
     "evalue": "invalid literal for int() with base 10: 'hello'",
     "output_type": "error",
     "traceback": [
      "\u001b[0;31m------------------------------------------------------------------\u001b[0m",
      "\u001b[0;31mValueError\u001b[0m                       Traceback (most recent call last)",
      "\u001b[0;32m<ipython-input-36-bb9180450b1e>\u001b[0m in \u001b[0;36m<module>\u001b[0;34m()\u001b[0m\n\u001b[1;32m      2\u001b[0m \u001b[0;32mprint\u001b[0m\u001b[0;34m(\u001b[0m\u001b[0ma\u001b[0m\u001b[0;34m)\u001b[0m\u001b[0;34m\u001b[0m\u001b[0m\n\u001b[1;32m      3\u001b[0m \u001b[0ma\u001b[0m\u001b[0;34m[\u001b[0m\u001b[0;34m:\u001b[0m\u001b[0;36m2\u001b[0m\u001b[0;34m,\u001b[0m\u001b[0;36m2\u001b[0m\u001b[0;34m:\u001b[0m\u001b[0;34m]\u001b[0m\u001b[0;34m;\u001b[0m\u001b[0;34m\u001b[0m\u001b[0m\n\u001b[0;32m----> 4\u001b[0;31m \u001b[0ma\u001b[0m\u001b[0;34m[\u001b[0m\u001b[0;34m:\u001b[0m\u001b[0;36m2\u001b[0m\u001b[0;34m,\u001b[0m\u001b[0;36m2\u001b[0m\u001b[0;34m:\u001b[0m\u001b[0;34m]\u001b[0m \u001b[0;34m=\u001b[0m \u001b[0;34m'hello'\u001b[0m\u001b[0;34m\u001b[0m\u001b[0m\n\u001b[0m\u001b[1;32m      5\u001b[0m \u001b[0;32mprint\u001b[0m\u001b[0;34m(\u001b[0m\u001b[0ma\u001b[0m\u001b[0;34m)\u001b[0m\u001b[0;34m\u001b[0m\u001b[0m\n",
      "\u001b[0;31mValueError\u001b[0m: invalid literal for int() with base 10: 'hello'"
     ]
    }
   ],
   "source": [
    "a = np.array([[1,2,3,4,5], [4,5,6,7,8], [14,15,16,17,18]])\n",
    "print(a)\n",
    "a[:2,2:];\n",
    "a[:2,2:] = 'hello'\n",
    "print(a)\n"
   ]
  }
 ],
 "metadata": {
  "kernelspec": {
   "display_name": "Python 2",
   "language": "python",
   "name": "python2"
  },
  "language_info": {
   "codemirror_mode": {
    "name": "ipython",
    "version": 2
   },
   "file_extension": ".py",
   "mimetype": "text/x-python",
   "name": "python",
   "nbconvert_exporter": "python",
   "pygments_lexer": "ipython2",
   "version": "2.7.8"
  }
 },
 "nbformat": 4,
 "nbformat_minor": 1
}
