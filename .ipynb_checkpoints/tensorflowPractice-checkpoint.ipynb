{
 "cells": [
  {
   "cell_type": "markdown",
   "metadata": {},
   "source": [
    "### Tensorflow 기초\n",
    "1. tensorflow란\n",
    "    * tensor는 데이터를 담는 다차원 배열.\n",
    "    * 이것의 흐름을 tensorflow라고 표현.\n",
    "    * 수학적인 계산을 각 node와 edge로 표현함\n",
    "    * node는 수학적 계산, edge는 데이터의 입출력 표현\n",
    "2. 이러한 tensorflow의 계산, 데이터 흐름을 나타낸 것을 **Graph**라고 함.(*수학 용어로 node와 edge를 나타낸 것.*)\n",
    "    * graph상의 Node를 Opeartion(계산) 이라고 함.\n",
    "    * graph를 실행하기 위해서는 항상 Session 객체가 필요함. Session()클래스로 생성.\n",
    "        * Session은 오퍼레이션의 실행환경을 캡슐화 한 것.\n",
    "    * 변수는 그래프의 실행시 패러미터를 저장하고 갱신하는 데에 사용. *메모리 상의 텐서를 저장하는 **버퍼** 역할*\n",
    "![Image of Tensorflow](https://camo.githubusercontent.com/4ee55154486232ec9edd8f1a3bad4c4a146f6cfe/68747470733a2f2f7777772e74656e736f72666c6f772e6f72672f696d616765732f74656e736f72735f666c6f77696e672e676966)"
   ]
  },
  {
   "cell_type": "code",
   "execution_count": 2,
   "metadata": {
    "collapsed": false
   },
   "outputs": [
    {
     "name": "stdout",
     "output_type": "stream",
     "text": [
      "hello, tensorflow!\n"
     ]
    }
   ],
   "source": [
    "#tensorflow 상수\n",
    "import tensorflow as tf\n",
    "import matplotlib.pyplot as plt\n",
    "hello = tf.constant('hello, tensorflow!')\n",
    "sess = tf.Session()\n",
    "print sess.run(hello)"
   ]
  },
  {
   "cell_type": "markdown",
   "metadata": {},
   "source": [
    "* Tensor끼리는 그냥 계산을 할 수가 없다.\n",
    "* **Session** 속에서 계산을 해야한다."
   ]
  },
  {
   "cell_type": "code",
   "execution_count": 6,
   "metadata": {
    "collapsed": false
   },
   "outputs": [
    {
     "data": {
      "text/plain": [
       "7"
      ]
     },
     "execution_count": 6,
     "metadata": {},
     "output_type": "execute_result"
    }
   ],
   "source": [
    "a = tf.constant(3)\n",
    "b = tf.constant(4)\n",
    "sess.run(a+b)"
   ]
  },
  {
   "cell_type": "code",
   "execution_count": null,
   "metadata": {
    "collapsed": true
   },
   "outputs": [],
   "source": []
  },
  {
   "cell_type": "code",
   "execution_count": 18,
   "metadata": {
    "collapsed": false
   },
   "outputs": [
    {
     "name": "stdout",
     "output_type": "stream",
     "text": [
      "0\n",
      "1\n",
      "2\n",
      "3\n"
     ]
    }
   ],
   "source": [
    "# 변수를 0 으로 초기화.\n",
    "state = tf.Variable(0, name='counter')\n",
    "\n",
    "# state 에 1 을 더할 Operator 생성 (node가 하나 만들어지는 것.)\n",
    "one = tf.constant(1)\n",
    "new_value = tf.add(state, one)\n",
    "update = tf.assign(state, new_value)\n",
    "\n",
    "# graph는 처음에 변수 초기화가 필수\n",
    "init_op = tf.global_variables_initializer()\n",
    "\n",
    "with tf.Session() as sess:\n",
    "    sess.run(init_op)\n",
    "    \n",
    "    print(sess.run(state))\n",
    "    \n",
    "    for _ in range (3):\n",
    "        sess.run(update)\n",
    "        print(sess.run(state))"
   ]
  },
  {
   "cell_type": "code",
   "execution_count": null,
   "metadata": {
    "collapsed": true
   },
   "outputs": [],
   "source": []
  }
 ],
 "metadata": {
  "kernelspec": {
   "display_name": "Python 2",
   "language": "python",
   "name": "python2"
  },
  "language_info": {
   "codemirror_mode": {
    "name": "ipython",
    "version": 2
   },
   "file_extension": ".py",
   "mimetype": "text/x-python",
   "name": "python",
   "nbconvert_exporter": "python",
   "pygments_lexer": "ipython2",
   "version": "2.7.8"
  }
 },
 "nbformat": 4,
 "nbformat_minor": 1
}
